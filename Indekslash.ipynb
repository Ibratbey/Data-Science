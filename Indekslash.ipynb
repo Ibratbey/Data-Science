{
  "cells": [
    {
      "cell_type": "markdown",
      "metadata": {
        "id": "view-in-github",
        "colab_type": "text"
      },
      "source": [
        "<a href=\"https://colab.research.google.com/github/Ibratbey/Data-Science/blob/main/Indekslash.ipynb\" target=\"_parent\"><img src=\"https://colab.research.google.com/assets/colab-badge.svg\" alt=\"Open In Colab\"/></a>"
      ]
    },
    {
      "cell_type": "code",
      "execution_count": 2,
      "id": "bf8eb44e",
      "metadata": {
        "id": "bf8eb44e"
      },
      "outputs": [],
      "source": [
        "import numpy as np"
      ]
    },
    {
      "cell_type": "code",
      "execution_count": 3,
      "id": "d488986c",
      "metadata": {
        "colab": {
          "base_uri": "https://localhost:8080/"
        },
        "id": "d488986c",
        "outputId": "412220da-8a12-442d-a64c-0fed9801db82"
      },
      "outputs": [
        {
          "output_type": "execute_result",
          "data": {
            "text/plain": [
              "array(['Ibratbek', 'Asadulloh', 'Shahzod', 'Asad', 'Shuhrat', 'Bekzod',\n",
              "       'Davron'], dtype='<U9')"
            ]
          },
          "metadata": {},
          "execution_count": 3
        }
      ],
      "source": [
        "dat = ['Ibratbek','Asadulloh', 'Shahzod','Asad', 'Shuhrat','Bekzod','Davron'] # Kvartiradagi talabalar ismlari\n",
        "arr = np.array(dat)\n",
        "arr"
      ]
    },
    {
      "cell_type": "code",
      "execution_count": 5,
      "id": "bd8a59f8",
      "metadata": {
        "colab": {
          "base_uri": "https://localhost:8080/"
        },
        "id": "bd8a59f8",
        "outputId": "72ffe483-8e70-4a0b-f2f5-4e6d3c243f75"
      },
      "outputs": [
        {
          "output_type": "execute_result",
          "data": {
            "text/plain": [
              "array(['Ibratbek', 'Asadulloh'], dtype='<U9')"
            ]
          },
          "metadata": {},
          "execution_count": 5
        }
      ],
      "source": [
        "arr1 = arr[:2] # Data Science ga qiziqadigan talabalar\n",
        "arr1"
      ]
    },
    {
      "cell_type": "code",
      "execution_count": 6,
      "id": "553c1ec4",
      "metadata": {
        "colab": {
          "base_uri": "https://localhost:8080/"
        },
        "id": "553c1ec4",
        "outputId": "a2ba18ed-a02e-43a4-f8e5-dbbd043b2ac6"
      },
      "outputs": [
        {
          "output_type": "execute_result",
          "data": {
            "text/plain": [
              "array(['Asadulloh', 'Shahzod', 'Asad', 'Shuhrat'], dtype='<U9')"
            ]
          },
          "metadata": {},
          "execution_count": 6
        }
      ],
      "source": [
        "arr2 = arr[1:5] # Ingliz tilidan o'quv kursiga boradigan talabalar\n",
        "arr2"
      ]
    },
    {
      "cell_type": "code",
      "execution_count": 7,
      "id": "a29e18ca",
      "metadata": {
        "colab": {
          "base_uri": "https://localhost:8080/"
        },
        "id": "a29e18ca",
        "outputId": "bc00deea-8344-445c-f569-cd3162186465"
      },
      "outputs": [
        {
          "output_type": "execute_result",
          "data": {
            "text/plain": [
              "array(['Asadulloh', '', 'Asad', 'Shuhrat'], dtype='<U9')"
            ]
          },
          "metadata": {},
          "execution_count": 7
        }
      ],
      "source": [
        "arr2[1] = ''\n",
        "arr2"
      ]
    },
    {
      "cell_type": "code",
      "execution_count": 8,
      "id": "d0e187f1",
      "metadata": {
        "colab": {
          "base_uri": "https://localhost:8080/"
        },
        "id": "d0e187f1",
        "outputId": "9d20a143-2e43-449e-f68e-7c1dd0b2758b"
      },
      "outputs": [
        {
          "output_type": "execute_result",
          "data": {
            "text/plain": [
              "array(['Asadulloh', 'Asad', 'Shuhrat'], dtype='<U9')"
            ]
          },
          "metadata": {},
          "execution_count": 8
        }
      ],
      "source": [
        "arr2 = np.delete(arr2,1) #Ingliz tilidan o'quv kursiga boradigan talabalar ro'yhatidan Shahzodni chiqarib tashlaymiz\n",
        "arr2"
      ]
    },
    {
      "cell_type": "code",
      "execution_count": 9,
      "id": "e730cb4f",
      "metadata": {
        "colab": {
          "base_uri": "https://localhost:8080/"
        },
        "id": "e730cb4f",
        "outputId": "044f988d-d703-4cb1-e408-49b466940cf1"
      },
      "outputs": [
        {
          "output_type": "execute_result",
          "data": {
            "text/plain": [
              "array(['Ibratbek', 'Asadulloh', '', 'Asad', 'Shuhrat', 'Bekzod', 'Davron'],\n",
              "      dtype='<U9')"
            ]
          },
          "metadata": {},
          "execution_count": 9
        }
      ],
      "source": [
        "arr # asosiy array"
      ]
    },
    {
      "cell_type": "code",
      "execution_count": 10,
      "id": "0830cd89",
      "metadata": {
        "colab": {
          "base_uri": "https://localhost:8080/"
        },
        "id": "0830cd89",
        "outputId": "5ae15554-d594-4551-ae04-6154545061da"
      },
      "outputs": [
        {
          "output_type": "execute_result",
          "data": {
            "text/plain": [
              "array(['Ibratbek', 'Asadulloh'], dtype='<U9')"
            ]
          },
          "metadata": {},
          "execution_count": 10
        }
      ],
      "source": [
        "arr3 = arr[:2]# arrayning dastlabki 2 ta elementini kesib olamiz\n",
        "arr3"
      ]
    },
    {
      "cell_type": "code",
      "execution_count": 12,
      "id": "2bc848b5",
      "metadata": {
        "colab": {
          "base_uri": "https://localhost:8080/"
        },
        "id": "2bc848b5",
        "outputId": "b6d0d460-d364-43e8-a64d-8a1f1a52143d"
      },
      "outputs": [
        {
          "output_type": "execute_result",
          "data": {
            "text/plain": [
              "array(['Ibratullo', 'Asadulloh'], dtype='<U9')"
            ]
          },
          "metadata": {},
          "execution_count": 12
        }
      ],
      "source": [
        "arr3[0] = \"Ibratulloh \" #arr3 ni 0- indeksdagi qiymatini o'zgartiramiz\n",
        "arr3"
      ]
    },
    {
      "cell_type": "code",
      "execution_count": 13,
      "id": "619fee21",
      "metadata": {
        "colab": {
          "base_uri": "https://localhost:8080/",
          "height": 35
        },
        "id": "619fee21",
        "outputId": "c976d682-d255-4fd8-aa5e-76821969cec9"
      },
      "outputs": [
        {
          "output_type": "execute_result",
          "data": {
            "application/vnd.google.colaboratory.intrinsic+json": {
              "type": "string"
            },
            "text/plain": [
              "'Ibratullo'"
            ]
          },
          "metadata": {},
          "execution_count": 13
        }
      ],
      "source": [
        "arr3[0]"
      ]
    },
    {
      "cell_type": "raw",
      "id": "aee29b61",
      "metadata": {
        "id": "aee29b61"
      },
      "source": [
        "arr3"
      ]
    },
    {
      "cell_type": "code",
      "execution_count": 17,
      "id": "53de1466",
      "metadata": {
        "colab": {
          "base_uri": "https://localhost:8080/"
        },
        "id": "53de1466",
        "outputId": "480a35b0-da62-4064-afeb-bbb2dc0e4782"
      },
      "outputs": [
        {
          "output_type": "stream",
          "name": "stdout",
          "text": [
            "['Ibratullo' 'Asadulloh']\n"
          ]
        }
      ],
      "source": [
        "print(arr3)"
      ]
    },
    {
      "cell_type": "code",
      "execution_count": 18,
      "id": "a94d77f0",
      "metadata": {
        "colab": {
          "base_uri": "https://localhost:8080/"
        },
        "id": "a94d77f0",
        "outputId": "1e4a1312-5a06-4f83-fda0-75c7d4019e35"
      },
      "outputs": [
        {
          "output_type": "stream",
          "name": "stdout",
          "text": [
            "['Ibratullo' 'Asadulloh' '' 'Asad' 'Shuhrat' 'Bekzod' 'Davron']\n"
          ]
        }
      ],
      "source": [
        "print(arr)# arr massivimizni ro'yhatga chiqarib ko'ramiz"
      ]
    },
    {
      "cell_type": "code",
      "source": [
        "arr[2] = 'Shahzod'"
      ],
      "metadata": {
        "id": "iJaU4NAboja_"
      },
      "id": "iJaU4NAboja_",
      "execution_count": 22,
      "outputs": []
    },
    {
      "cell_type": "markdown",
      "id": "c74d33de",
      "metadata": {
        "id": "c74d33de"
      },
      "source": [
        "## Demak biror arrayni boshqa arraydan elementlarini kesib olib yaratsak va yangi array ustida amallar bajarsak, bu elementlari kesib olingan arrayga ham tasir qilar ekan. Buni oldini olish uchun boshqa usulni ko'rib chiqamiz"
      ]
    },
    {
      "cell_type": "markdown",
      "id": "69d29d55",
      "metadata": {
        "id": "69d29d55"
      },
      "source": [
        "# copy usuli"
      ]
    },
    {
      "cell_type": "code",
      "execution_count": 23,
      "id": "e617227f",
      "metadata": {
        "colab": {
          "base_uri": "https://localhost:8080/"
        },
        "id": "e617227f",
        "outputId": "3af3cc6e-a820-40ed-ce52-6f4dfbbbb6be"
      },
      "outputs": [
        {
          "output_type": "execute_result",
          "data": {
            "text/plain": [
              "array(['Asadulloh', 'Shahzod', 'Shahzod', 'Shuhrat'], dtype='<U9')"
            ]
          },
          "metadata": {},
          "execution_count": 23
        }
      ],
      "source": [
        "arr4 = arr[1:5].copy() # arr arrayidan 1-dan 5- indeksgacha nusxa olamiz\n",
        "arr4"
      ]
    },
    {
      "cell_type": "code",
      "execution_count": 24,
      "id": "794f8866",
      "metadata": {
        "colab": {
          "base_uri": "https://localhost:8080/"
        },
        "id": "794f8866",
        "outputId": "59306159-5df9-4fe6-a3f6-23cf6e63f45b"
      },
      "outputs": [
        {
          "output_type": "execute_result",
          "data": {
            "text/plain": [
              "array(['Shahzod', 'Shahzod', 'Shuhrat'], dtype='<U9')"
            ]
          },
          "metadata": {},
          "execution_count": 24
        }
      ],
      "source": [
        "#Asadullohni arr4 massividan chiqarib tashlaymiz\n",
        "arr4 = np.delete(arr4,0)\n",
        "arr4"
      ]
    },
    {
      "cell_type": "markdown",
      "id": "032de2bb",
      "metadata": {
        "id": "032de2bb"
      },
      "source": [
        "## Keling endi arr arrayimizni tekshirib ko'ramiz, Asadulloh arr arrayimizdan ham o'chib ketganmikan"
      ]
    },
    {
      "cell_type": "code",
      "execution_count": 25,
      "id": "9aed59d7",
      "metadata": {
        "colab": {
          "base_uri": "https://localhost:8080/"
        },
        "id": "9aed59d7",
        "outputId": "c57e0748-1712-4af4-a945-0bfe565b3bb5"
      },
      "outputs": [
        {
          "output_type": "stream",
          "name": "stdout",
          "text": [
            "['Ibratullo' 'Asadulloh' 'Shahzod' 'Shahzod' 'Shuhrat' 'Bekzod' 'Davron']\n"
          ]
        }
      ],
      "source": [
        "print(arr)"
      ]
    },
    {
      "cell_type": "markdown",
      "id": "29e3c363",
      "metadata": {
        "id": "29e3c363"
      },
      "source": [
        "## Demak bu safar arr array o'zgarmay qoldi"
      ]
    },
    {
      "cell_type": "markdown",
      "id": "43bb9d1b",
      "metadata": {
        "id": "43bb9d1b"
      },
      "source": [
        "# Ikki o'lchamli (2d array) massivlarda indeks va kesib olish"
      ]
    },
    {
      "cell_type": "code",
      "execution_count": 26,
      "id": "7fa909f9",
      "metadata": {
        "colab": {
          "base_uri": "https://localhost:8080/"
        },
        "id": "7fa909f9",
        "outputId": "bb8fffd7-9a15-475c-dfc7-b70d0a62ade0"
      },
      "outputs": [
        {
          "output_type": "execute_result",
          "data": {
            "text/plain": [
              "array([[1, 2, 3],\n",
              "       [4, 5, 6],\n",
              "       [7, 8, 9]])"
            ]
          },
          "metadata": {},
          "execution_count": 26
        }
      ],
      "source": [
        "arr2d = np.array([[1,2,3],[4,5,6],[7,8,9]]) # 2d array 9 ta elementdan iborat\n",
        "arr2d"
      ]
    },
    {
      "cell_type": "code",
      "execution_count": 27,
      "id": "5d2c8b21",
      "metadata": {
        "colab": {
          "base_uri": "https://localhost:8080/"
        },
        "id": "5d2c8b21",
        "outputId": "7e9f99f6-859d-44ec-e499-ee95b84e3d9b"
      },
      "outputs": [
        {
          "output_type": "execute_result",
          "data": {
            "text/plain": [
              "2"
            ]
          },
          "metadata": {},
          "execution_count": 27
        }
      ],
      "source": [
        "arr2d.ndim"
      ]
    },
    {
      "cell_type": "markdown",
      "source": [
        "## **size metodi**"
      ],
      "metadata": {
        "id": "w_2naoPYpaXN"
      },
      "id": "w_2naoPYpaXN"
    },
    {
      "cell_type": "code",
      "execution_count": 29,
      "id": "e9147520",
      "metadata": {
        "colab": {
          "base_uri": "https://localhost:8080/"
        },
        "id": "e9147520",
        "outputId": "736a8bee-ebe8-40ab-c7dd-85138aa7c002"
      },
      "outputs": [
        {
          "output_type": "execute_result",
          "data": {
            "text/plain": [
              "9"
            ]
          },
          "metadata": {},
          "execution_count": 29
        }
      ],
      "source": [
        "# arr2d massividagi elementlari sonini aniqlaymiz\n",
        "arr2d.size"
      ]
    },
    {
      "cell_type": "markdown",
      "source": [
        "2 o'ljamli massivning bir nechta elementlarini kesib olish"
      ],
      "metadata": {
        "id": "AcuMs2FVqdgb"
      },
      "id": "AcuMs2FVqdgb"
    },
    {
      "cell_type": "code",
      "source": [
        "qism_arr2d = arr2d[:2,1:]  # \n",
        "qism_arr2d"
      ],
      "metadata": {
        "colab": {
          "base_uri": "https://localhost:8080/"
        },
        "id": "F-58ndE4qEF3",
        "outputId": "3a53fa24-f6d5-4cdd-bf10-3da5fbf1fefa"
      },
      "id": "F-58ndE4qEF3",
      "execution_count": 35,
      "outputs": [
        {
          "output_type": "execute_result",
          "data": {
            "text/plain": [
              "array([[2, 3],\n",
              "       [5, 6]])"
            ]
          },
          "metadata": {},
          "execution_count": 35
        }
      ]
    },
    {
      "cell_type": "code",
      "source": [
        "qism_arr2d.shape"
      ],
      "metadata": {
        "colab": {
          "base_uri": "https://localhost:8080/"
        },
        "id": "k6G307AarZMj",
        "outputId": "f15dbb10-17a1-4659-8ca5-cc31721d7035"
      },
      "id": "k6G307AarZMj",
      "execution_count": 36,
      "outputs": [
        {
          "output_type": "execute_result",
          "data": {
            "text/plain": [
              "(2, 2)"
            ]
          },
          "metadata": {},
          "execution_count": 36
        }
      ]
    },
    {
      "cell_type": "code",
      "source": [
        "qism_arr2d = arr2d[1:,:]\n",
        "qism_arr2d"
      ],
      "metadata": {
        "colab": {
          "base_uri": "https://localhost:8080/"
        },
        "id": "iHbgAw5ZrEDR",
        "outputId": "cf6e1d21-de07-49e1-afe9-199569c20e45"
      },
      "id": "iHbgAw5ZrEDR",
      "execution_count": 37,
      "outputs": [
        {
          "output_type": "execute_result",
          "data": {
            "text/plain": [
              "array([[4, 5, 6],\n",
              "       [7, 8, 9]])"
            ]
          },
          "metadata": {},
          "execution_count": 37
        }
      ]
    },
    {
      "cell_type": "code",
      "source": [
        "qism_arr2d.shape"
      ],
      "metadata": {
        "colab": {
          "base_uri": "https://localhost:8080/"
        },
        "id": "bbggaLqprXG3",
        "outputId": "a824213b-1418-4166-b275-cbe939568766"
      },
      "id": "bbggaLqprXG3",
      "execution_count": 38,
      "outputs": [
        {
          "output_type": "execute_result",
          "data": {
            "text/plain": [
              "(2, 3)"
            ]
          },
          "metadata": {},
          "execution_count": 38
        }
      ]
    },
    {
      "cell_type": "markdown",
      "source": [
        "3 o'lchamli massivlarda indekslash va kesib olish"
      ],
      "metadata": {
        "id": "cBxORGharvcX"
      },
      "id": "cBxORGharvcX"
    },
    {
      "cell_type": "code",
      "source": [
        "arr3d = np.array([\n",
        "                  [[1,2,3],[4,5,6]],\n",
        "                  [[7,8,9],[10,11,12]],\n",
        "                  [[13,14,15],[16,17,18]]\n",
        "                  ])\n",
        "arr3d"
      ],
      "metadata": {
        "colab": {
          "base_uri": "https://localhost:8080/"
        },
        "id": "Pd_zYUpTrmZe",
        "outputId": "f0950eb5-9c86-4fe6-c55f-01f996fc8a92"
      },
      "id": "Pd_zYUpTrmZe",
      "execution_count": 41,
      "outputs": [
        {
          "output_type": "execute_result",
          "data": {
            "text/plain": [
              "array([[[ 1,  2,  3],\n",
              "        [ 4,  5,  6]],\n",
              "\n",
              "       [[ 7,  8,  9],\n",
              "        [10, 11, 12]],\n",
              "\n",
              "       [[13, 14, 15],\n",
              "        [16, 17, 18]]])"
            ]
          },
          "metadata": {},
          "execution_count": 41
        }
      ]
    },
    {
      "cell_type": "code",
      "source": [
        "print(arr3d.ndim)  #arr3d ni o'lchami\n",
        "print(arr3d.shape) #Shakli\n",
        "arr3d.size  #elementlari soni"
      ],
      "metadata": {
        "colab": {
          "base_uri": "https://localhost:8080/"
        },
        "id": "om6M5udUsj-8",
        "outputId": "5f1167d2-1901-4061-f15e-9421f1ff430e"
      },
      "id": "om6M5udUsj-8",
      "execution_count": 46,
      "outputs": [
        {
          "output_type": "stream",
          "name": "stdout",
          "text": [
            "3\n",
            "(3, 2, 3)\n"
          ]
        },
        {
          "output_type": "execute_result",
          "data": {
            "text/plain": [
              "18"
            ]
          },
          "metadata": {},
          "execution_count": 46
        }
      ]
    },
    {
      "cell_type": "code",
      "source": [
        "qism_arr3d = arr3d[0].copy()\n",
        "qism_arr3d"
      ],
      "metadata": {
        "colab": {
          "base_uri": "https://localhost:8080/"
        },
        "id": "wswYvNXzss7N",
        "outputId": "e6b29518-0644-474d-a00d-6763c4d70e9a"
      },
      "id": "wswYvNXzss7N",
      "execution_count": 48,
      "outputs": [
        {
          "output_type": "execute_result",
          "data": {
            "text/plain": [
              "array([[1, 2, 3],\n",
              "       [4, 5, 6]])"
            ]
          },
          "metadata": {},
          "execution_count": 48
        }
      ]
    },
    {
      "cell_type": "code",
      "source": [
        "qism_arr3d = arr3d[2][:,:2].copy()\n",
        "qism_arr3d"
      ],
      "metadata": {
        "colab": {
          "base_uri": "https://localhost:8080/"
        },
        "id": "oMzGdkPct5XM",
        "outputId": "d66c7a44-5e5d-4487-8ca5-7f7e4f6536ee"
      },
      "id": "oMzGdkPct5XM",
      "execution_count": 52,
      "outputs": [
        {
          "output_type": "execute_result",
          "data": {
            "text/plain": [
              "array([[13, 14],\n",
              "       [16, 17]])"
            ]
          },
          "metadata": {},
          "execution_count": 52
        }
      ]
    },
    {
      "cell_type": "code",
      "source": [
        "qism_arr3d = arr3d[:2].copy()\n",
        "qism_arr3d"
      ],
      "metadata": {
        "colab": {
          "base_uri": "https://localhost:8080/"
        },
        "id": "M0QXJWZSuGcA",
        "outputId": "93e3a1f2-d3f4-43e3-e3de-6f2cbde52182"
      },
      "id": "M0QXJWZSuGcA",
      "execution_count": 53,
      "outputs": [
        {
          "output_type": "execute_result",
          "data": {
            "text/plain": [
              "array([[[ 1,  2,  3],\n",
              "        [ 4,  5,  6]],\n",
              "\n",
              "       [[ 7,  8,  9],\n",
              "        [10, 11, 12]]])"
            ]
          },
          "metadata": {},
          "execution_count": 53
        }
      ]
    },
    {
      "cell_type": "markdown",
      "source": [
        "# **Bugungi mavzu qisqacha shundan iborat**"
      ],
      "metadata": {
        "id": "sg_kCcgVuqNh"
      },
      "id": "sg_kCcgVuqNh"
    }
  ],
  "metadata": {
    "kernelspec": {
      "display_name": "Python 3 (ipykernel)",
      "language": "python",
      "name": "python3"
    },
    "language_info": {
      "codemirror_mode": {
        "name": "ipython",
        "version": 3
      },
      "file_extension": ".py",
      "mimetype": "text/x-python",
      "name": "python",
      "nbconvert_exporter": "python",
      "pygments_lexer": "ipython3",
      "version": "3.9.7"
    },
    "colab": {
      "name": "Indekslash.ipynb",
      "provenance": [],
      "collapsed_sections": [],
      "include_colab_link": true
    }
  },
  "nbformat": 4,
  "nbformat_minor": 5
}